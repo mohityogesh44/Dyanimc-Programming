{
 "cells": [
  {
   "cell_type": "markdown",
   "metadata": {},
   "source": [
    "##### Write a function `canSum(targetSum, numbers)`  that takes in a targetSum and an array of numbers as arguments.\n",
    "##### The function should return a boolean indicating whethter or not it is possible to generate the targetSum using numbers from the array.\n",
    "##### All the numbers are non negative and you may use an element of the array as many times as needed."
   ]
  },
  {
   "cell_type": "markdown",
   "metadata": {},
   "source": [
    "### Brute-Force : \n",
    "#### `O(n^m) Time`\n",
    "#### `O(m) Space`  where `n = len(numbers)` and `m = targetSum`"
   ]
  },
  {
   "cell_type": "code",
   "execution_count": 6,
   "metadata": {},
   "outputs": [],
   "source": [
    "def canSum(targetSum, numbers):\n",
    "    if targetSum == 0:\n",
    "        return True\n",
    "    if targetSum <0:\n",
    "        return False\n",
    "    for num in numbers:\n",
    "        remaining = targetSum - num\n",
    "        if canSum(remaining, numbers) == True:\n",
    "            return True\n",
    "    return False"
   ]
  },
  {
   "cell_type": "code",
   "execution_count": 7,
   "metadata": {},
   "outputs": [
    {
     "data": {
      "text/plain": [
       "True"
      ]
     },
     "execution_count": 7,
     "metadata": {},
     "output_type": "execute_result"
    }
   ],
   "source": [
    "canSum(100, [2])"
   ]
  },
  {
   "cell_type": "markdown",
   "metadata": {},
   "source": [
    "### Memoization :\n",
    "#### `O(n*m) Time`\n",
    "#### `O(m) Space`"
   ]
  },
  {
   "cell_type": "code",
   "execution_count": 8,
   "metadata": {},
   "outputs": [],
   "source": [
    "def canSum(targetSum, numbers, memo = dict()):\n",
    "    if targetSum in memo:\n",
    "        return memo[targetSum]\n",
    "    if targetSum ==  0:\n",
    "        return True\n",
    "    if targetSum < 0:\n",
    "        return False\n",
    "    \n",
    "    for num in numbers:\n",
    "        remaining = targetSum - num\n",
    "        if canSum(remaining, numbers, memo) == True:\n",
    "            memo[targetSum] = True\n",
    "            return True\n",
    "    \n",
    "    memo[targetSum] = False\n",
    "    return False"
   ]
  },
  {
   "cell_type": "code",
   "execution_count": 9,
   "metadata": {},
   "outputs": [
    {
     "data": {
      "text/plain": [
       "True"
      ]
     },
     "execution_count": 9,
     "metadata": {},
     "output_type": "execute_result"
    }
   ],
   "source": [
    "canSum(1000, [2, 14])"
   ]
  }
 ],
 "metadata": {
  "kernelspec": {
   "display_name": "Python 3",
   "language": "python",
   "name": "python3"
  },
  "language_info": {
   "codemirror_mode": {
    "name": "ipython",
    "version": 3
   },
   "file_extension": ".py",
   "mimetype": "text/x-python",
   "name": "python",
   "nbconvert_exporter": "python",
   "pygments_lexer": "ipython3",
   "version": "3.7.9"
  }
 },
 "nbformat": 4,
 "nbformat_minor": 4
}
